{
 "cells": [
  {
   "cell_type": "markdown",
   "metadata": {},
   "source": [
    "- Estimate entropy of  a single multidimensional variable in $\\mathbb{R}^d$.\n",
    "- On each point $\\bf x_i$, center a hyperrectangle with minimal volume.\n",
    "- This hyperrectangle in minimal. That is, it is constructing by including the set of \n",
    "    $\\chi_i^k$ neighbors, iteratively adjusting sizes in each dimension.\n",
    "- Call the sizes along each dimension $\\epsilon_1, \\epsilon_2, \\ldots, \\epsilon_d$"
   ]
  },
  {
   "cell_type": "code",
   "execution_count": 1,
   "metadata": {},
   "outputs": [
    {
     "name": "stderr",
     "output_type": "stream",
     "text": [
      "\u001b[32m\u001b[1m  Activating\u001b[22m\u001b[39m project at `~/Code/Repos/Temp/TransferEntropy.jl`\n"
     ]
    }
   ],
   "source": [
    "using Pkg;\n",
    "Pkg.activate(\"../../\")\n",
    "using Revise, TransferEntropy"
   ]
  },
  {
   "cell_type": "code",
   "execution_count": 185,
   "metadata": {},
   "outputs": [
    {
     "data": {
      "text/plain": [
       "\u001b[32m\u001b[1mTest Passed\u001b[22m\u001b[39m"
      ]
     },
     "metadata": {},
     "output_type": "display_data"
    }
   ],
   "source": [
    "using StaticArrays\n",
    "using DelayEmbeddings\n",
    "using Entropies: Entropy, IndirectEntropy\n",
    "using Neighborhood: KDTree, Chebyshev, bulkisearch, Theiler\n",
    "using SpecialFunctions: digamma\n",
    "import Entropies.entropy \n",
    "\n",
    "Base.@kwdef struct KozachenkoLeonenkoExt{B} <: IndirectEntropy\n",
    "    k::Int = 1\n",
    "    w::Int = 1\n",
    "    base::B = MathConstants.e\n",
    "\n",
    "    function KozachenkoLeonenkoExt(k::Int, w::Int, base::B) where B\n",
    "        new{B}(k, w, base)\n",
    "    end\n",
    "end\n",
    "\n",
    "\"\"\"\n",
    "    volume_minirect(xᵢ, nns)\n",
    "\n",
    "Compute the volume of the minimal enclosing rectangle with `xᵢ` at its center and \n",
    "containing all points `nᵢ ∈ nns` either within the rectangle or on one of its borders.\n",
    "\"\"\"\n",
    "function volume_minirect(xᵢ, nns::AbstractDataset)\n",
    "    mini, maxi = minmaxima(nns)\n",
    "    # dists[d] is the maximum distance from the point xᵢ to any neighbor in dimension d\n",
    "    # We take twice those distances to ensure xᵢ is at the centre of the rectangle.\n",
    "    dists = max.(maxi .- xᵢ, xᵢ .- mini)\n",
    "    return prod(dists .* 2)\n",
    "end\n",
    "\n",
    "# Test internals here itstead of end-product, because designing an end-product test is\n",
    "# a mess due to the neighbor searches. \n",
    "x = Dataset([[-1, -2], [0, -2], [3, 2]])\n",
    "y = Dataset([[3, 1], [-5, 1], [3, -2]])\n",
    "using Test\n",
    "@test volume_minirect([0, 0], x) == 24\n",
    "@test volume_minirect([0, 0], y) == 40\n",
    "\n",
    "function mean_logvolumes(x, nn_idxs, N::Int)\n",
    "    v = 0.0\n",
    "    for (i, (xᵢ, nn_idxsᵢ)) in enumerate(zip(x, nn_idxs))\n",
    "        nnsᵢ = @views x[nn_idxsᵢ] # the actual coordinates of the points\n",
    "        v += log(MathConstants.e, volume_minirect(xᵢ, nnsᵢ))\n",
    "    end\n",
    "    return v / N\n",
    "end\n",
    "function entropy(e::KozachenkoLeonenkoExt, x::AbstractDataset{D, T}) where {D, T}\n",
    "    (; k, w, base) = e\n",
    "    N = length(x)\n",
    "    tree = KDTree(x, Euclidean())\n",
    "    nn_idxs = bulkisearch(tree, x, NeighborNumber(k), Theiler(w))\n",
    "    h = digamma(N) + mean_logvolumes(x, nn_idxs, N) - digamma(k) + (D - 1)/k\n",
    "    return h / log(base, MathConstants.e)\n",
    "end\n",
    "\n",
    "using Test\n",
    "DN = Dataset(randn(100000, 1))\n",
    "σ = 1.0\n",
    "hN_base_e = 0.5 * log(MathConstants.e, 2π * σ^2) + 0.5\n",
    "hN_base_2 = hN_base_e / log(2, MathConstants.e)\n",
    "\n",
    "e_base_e = KozachenkoLeonenkoExt(k = 3, base = MathConstants.e)\n",
    "e_base_2 = KozachenkoLeonenkoExt(k = 3, base = 2)\n",
    "\n",
    "@test round(entropy(e_base_e, DN), digits = 2) == round(hN_base_e, digits = 2) \n",
    "@test round(entropy(e_base_2, DN), digits = 2) == round(hN_base_2, digits = 2) "
   ]
  },
  {
   "cell_type": "code",
   "execution_count": 153,
   "metadata": {},
   "outputs": [
    {
     "data": {
      "text/plain": [
       "2.1040992993388556"
      ]
     },
     "metadata": {},
     "output_type": "display_data"
    }
   ],
   "source": [
    "using Entropies\n",
    "entropy(KozachenkoLeonenko(k = 5, base = MathConstants.e), pts)\n"
   ]
  },
  {
   "cell_type": "markdown",
   "metadata": {},
   "source": [
    "$$\n",
    "\\hat{H}(X) = \\dfrac{1}{n}\\sum_{i = 1}^n [- \\log{\\hat{p}(x_i)}] + \\gamma\n",
    "$$\n",
    "\n",
    "$$\n",
    "\\begin{align}\n",
    "\\hat{p(x_i)} &= \\log{\\dfrac{1}{(n-1) \\cdot r_d(x_i)^d \\cdot V_d}} \\\\\n",
    "&= \\log{(1)} - \\log{(n-1) \\cdot r_d(x_i)^d \\cdot V_d} \\\\\n",
    "&= - [\\log{(n-1) + \\log(r_d(x_i)^d) + \\log(V_d)}] \\\\\n",
    "&= - \\log{(n-1) - \\log(r_d(x_i)^d) - \\log(V_d)} \\\\\n",
    "\\end{align}\n",
    "$$\n",
    "\n",
    "So\n",
    "\n",
    "$$\n",
    "\\begin{align}\n",
    "\\hat{H}(X) \n",
    "&= \\dfrac{1}{n}\\sum_{i = 1}^n [- (\\log{(n-1) - \\log(r_d(x_i)^d) - \\log(V_d)})] + \\gamma \\\\\n",
    "&= \\dfrac{1}{n}\\sum_{i = 1}^n [\\log{(n-1) + \\log(r_d(x_i)^d) + \\log(V_d)}] + \\gamma \\\\\n",
    "&= \\log{(n-1) + \\log(V_d) + \\dfrac{1}{n}\\sum_{i = 1}^n [\\log(r_d(x_i)^d)}] + \\gamma \n",
    "\\end{align}\n",
    "$$\n"
   ]
  },
  {
   "cell_type": "markdown",
   "metadata": {},
   "source": []
  },
  {
   "cell_type": "code",
   "execution_count": 182,
   "metadata": {},
   "outputs": [
    {
     "name": "stdout",
     "output_type": "stream",
     "text": [
      "h_XN = 1.4189385332046727\n",
      "h_XN_kl = 1.415765202370185\n",
      "h_XN_kl2 = 1.415765202370185\n",
      "h_XN_klext = 1.4258344499628186\n",
      "h_XN * log(2.0, ℯ) = 2.047095585180641\n",
      "h_XN_kl2 * log(2.0, ℯ) = 2.0425174365226257\n",
      "entropy(Entropies.KozachenkoLeonenko(k = 1, base = 2), XN) = 1.7869869241472909\n"
     ]
    },
    {
     "data": {
      "text/plain": [
       "1.7869869241472909"
      ]
     },
     "metadata": {},
     "output_type": "display_data"
    }
   ],
   "source": [
    "XN = Dataset(randn(20000, 1));\n",
    "h_XN = (0.5*log(2π) + 0.5)\n",
    "\n",
    "h_XN_kl = entropy(Entropies.KozachenkoLeonenko(k = 1, base = MathConstants.e), XN)\n",
    "h_XN_kl2 = entropy(KozachenkoLeonenko2(k = 3, base = MathConstants.e), XN)\n",
    "h_XN_klext = entropy(KozachenkoLeonenkoExt(k = 3, base = MathConstants.e), XN)\n",
    "\n",
    "@show h_XN\n",
    "@show h_XN_kl\n",
    "@show h_XN_kl2\n",
    "@show h_XN_klext\n",
    "\n",
    "@show h_XN * log(2.0, ℯ)\n",
    "@show h_XN_kl2 * log(2.0, ℯ)\n",
    "@show entropy(Entropies.KozachenkoLeonenko(k = 1, base = 2), XN)\n"
   ]
  },
  {
   "cell_type": "code",
   "execution_count": 173,
   "metadata": {},
   "outputs": [
    {
     "name": "stdout",
     "output_type": "stream",
     "text": [
      "h_XU = 0.0\n",
      "h_XU_kl = -0.010725712190660985\n",
      "h_XU_kl2 = -0.010725712190660985\n",
      "h_XU_klext = -0.005122087415261434\n"
     ]
    },
    {
     "data": {
      "text/plain": [
       "-0.005122087415261434"
      ]
     },
     "metadata": {},
     "output_type": "display_data"
    }
   ],
   "source": [
    "XU = Dataset(rand(20000, 1));\n",
    "h_XU = 0.0\n",
    "h_XU_kl = entropy(Entropies.KozachenkoLeonenko(k = 1, base = MathConstants.e), XU)\n",
    "h_XU_kl2 = entropy(KozachenkoLeonenko2(k = 3, base = MathConstants.e), XU)\n",
    "h_XU_klext = entropy(KozachenkoLeonenkoExt(k = 3, base = MathConstants.e), XU)\n",
    "\n",
    "@show h_XU\n",
    "@show h_XU_kl\n",
    "@show h_XU_kl2\n",
    "@show h_XU_klext\n",
    "\n",
    "\n"
   ]
  },
  {
   "cell_type": "code",
   "execution_count": 72,
   "metadata": {},
   "outputs": [
    {
     "ename": "InexactError",
     "evalue": "InexactError: Int64(Inf)",
     "output_type": "error",
     "traceback": [
      "InexactError: Int64(Inf)\n",
      "\n",
      "Stacktrace:\n",
      "  [1] Int64\n",
      "    @ ./float.jl:788 [inlined]\n",
      "  [2] convert\n",
      "    @ ./number.jl:7 [inlined]\n",
      "  [3] fill!(dest::Vector{Int64}, x::Float64)\n",
      "    @ Base ./array.jl:351\n",
      "  [4] knn_point!(tree::KDTree{SVector{2, Int64}, Euclidean, Int64}, point::SVector{2, Int64}, sortres::Bool, dist::Vector{Int64}, idx::Vector{Int64}, skip::Neighborhood.var\"#33#36\"{Theiler{Nothing}, Int64})\n",
      "    @ NearestNeighbors ~/.julia/packages/NearestNeighbors/8gDgr/src/knn.jl:31\n",
      "  [5] #bulksearch#30\n",
      "    @ ~/.julia/packages/Neighborhood/A3y54/src/kdtree.jl:65 [inlined]\n",
      "  [6] bulksearch\n",
      "    @ ~/.julia/packages/Neighborhood/A3y54/src/kdtree.jl:58 [inlined]\n",
      "  [7] #bulkisearch#14\n",
      "    @ ~/.julia/packages/Neighborhood/A3y54/src/api.jl:135 [inlined]\n",
      "  [8] bulkisearch\n",
      "    @ ~/.julia/packages/Neighborhood/A3y54/src/api.jl:135 [inlined]\n",
      "  [9] #bulkisearch#25\n",
      "    @ ~/.julia/packages/DelayEmbeddings/PCI4c/src/datasets/neighborhoods.jl:15 [inlined]\n",
      " [10] bulkisearch\n",
      "    @ ~/.julia/packages/DelayEmbeddings/PCI4c/src/datasets/neighborhoods.jl:15 [inlined]\n",
      " [11] entropy(e::KozachenkoLeonenkoExt{Float64}, x::Dataset{2, Int64})\n",
      "    @ Main ~/Code/Repos/Temp/TransferEntropy.jl/src/transferentropy/new_estimators.ipynb:52\n",
      " [12] top-level scope\n",
      "    @ ~/Code/Repos/Temp/TransferEntropy.jl/src/transferentropy/new_estimators.ipynb:2"
     ]
    }
   ],
   "source": [
    "ekl = KozachenkoLeonenkoExt(k = 3, base = 2.0)\n",
    "entropy(ekl, y)"
   ]
  },
  {
   "cell_type": "code",
   "execution_count": 369,
   "metadata": {},
   "outputs": [
    {
     "data": {
      "text/plain": [
       "n_borderpoints"
      ]
     },
     "metadata": {},
     "output_type": "display_data"
    }
   ],
   "source": [
    "using DelayEmbeddings: minmaxima\n",
    "using SpecialFunctions: digamma\n",
    "using Entropies: Entropy, IndirectEntropy\n",
    "using Neighborhood: KDTree, Chebyshev, bulkisearch, Theiler, NeighborNumber\n",
    "\n",
    "export ZhuSingh\n",
    "\n",
    "\"\"\"\n",
    "    ZhuSingh <: IndirectEntropy\n",
    "    ZhuSingh(k = 1, w = 0, base = MathConstants.e)\n",
    "\n",
    "The `ZhuSingh` indirect entropy estimator (Zhu et al., 2015)[^Zhu2015] estimates the Shannon\n",
    "entropy of `x` (a multi-dimensional `Dataset`) to the given `base`.\n",
    "\n",
    "Like [`Zhu`](@ref), this estimator approximates probabilities within hyperrectangles\n",
    "surrounding each point `xᵢ ∈ x` using using `k` nearest neighbor searches. However,\n",
    "it also considers the number of neighbors falling on the borders of these hyperrectangles.\n",
    "This estimator is an extension to the entropy estimator in Singh et al. (2003).\n",
    "\n",
    "`w` is the Theiler window, which determines if temporal neighbors are excluded\n",
    "during neighbor searches (defaults to `0`, meaning that only the point itself is excluded\n",
    "when searching for neighbours).\n",
    "\n",
    "[^Zhu2015]:\n",
    "    Zhu, J., Bellanger, J. J., Shu, H., & Le Bouquin Jeannès, R. (2015). Contribution to\n",
    "    transfer entropy estimation via the k-nearest-neighbors approach. Entropy, 17(6),\n",
    "    4173-4201.\n",
    "[^Singh2003]:\n",
    "    Singh, H., Misra, N., Hnizdo, V., Fedorowicz, A., & Demchuk, E. (2003). Nearest\n",
    "    neighbor estimates of entropy. American journal of mathematical and management\n",
    "    sciences, 23(3-4), 301-321.\n",
    "\"\"\"\n",
    "Base.@kwdef struct ZhuSingh{B} <: IndirectEntropy\n",
    "    k::Int = 1\n",
    "    w::Int = 0\n",
    "    base::B = MathConstants.e\n",
    "\n",
    "    function ZhuSingh(k::Int, w::Int, base::B) where B\n",
    "        new{B}(k, w, base)\n",
    "    end\n",
    "end\n",
    "\n",
    "function entropy(e::ZhuSingh, x::AbstractDataset{D, T}) where {D, T}\n",
    "    (; k, w, base) = e\n",
    "    N = length(x)\n",
    "    tree = KDTree(x, Euclidean())\n",
    "    nn_idxs = bulkisearch(tree, x, NeighborNumber(k), Theiler(w))\n",
    "    mean_logvol, mean_digammaξ = mean_logvolumes_and_digamma(x, nn_idxs, N, k)\n",
    "    h = digamma(N) + mean_logvol - mean_digammaξ\n",
    "    return h / log(base, MathConstants.e)\n",
    "end\n",
    "\n",
    "function mean_logvolumes_and_digamma(x, nn_idxs, N::Int, k::Int)\n",
    "    T = eltype(0.0)\n",
    "    logvol::T = 0.0\n",
    "    digammaξ::T = 0.0\n",
    "    for (i, (xᵢ, nn_idxsᵢ)) in enumerate(zip(x, nn_idxs))\n",
    "        nnsᵢ = @views x[nn_idxsᵢ] # the actual coordinates of the points\n",
    "        distsᵢ = maxdists(xᵢ, nnsᵢ)\n",
    "        ξ = n_borderpoints(xᵢ, nnsᵢ, distsᵢ)\n",
    "        digammaξ += digamma(k - ξ + 1)\n",
    "        logvol += log(MathConstants.e, volume_minimal_rect(distsᵢ))\n",
    "    end\n",
    "    logvol /= N\n",
    "    digammaξ /= N\n",
    "\n",
    "    return logvol, digammaξ\n",
    "end\n",
    "\n",
    "\"\"\"\n",
    "    volume_minimal_rect(dists) → vol\n",
    "\n",
    "Compute the volume of a (hyper)-rectangle where the distance from its centre along the\n",
    "`k`-th dimension is given by `dists[k]`, and `length(dists)` is the total dimension.\n",
    "\"\"\"\n",
    "volume_minimal_rect(dists) = prod(dists .* 2)\n",
    "\n",
    "\"\"\"\n",
    "    n_borderpoints(xᵢ, nns, dists) → ξ\n",
    "\n",
    "Compute `ξ`, which is how many of `xᵢ`'s neighbor points `xⱼ ∈ nns` fall on the border of\n",
    "the minimal-volume rectangle with `xᵢ` at its center.\n",
    "\n",
    "`dists[k]` should be the maximum distance from `xᵢ[k]` to any other point along the k-th\n",
    "dimension, and `length(dists)` is the total dimension.\n",
    "\"\"\"\n",
    "n_borderpoints(xᵢ, nns, dists) = count(any(abs.(xᵢ .- xⱼ) .== dists) for xⱼ in nns)\n"
   ]
  },
  {
   "cell_type": "code",
   "execution_count": 535,
   "metadata": {},
   "outputs": [],
   "source": [
    "\"\"\"\n",
    "    ZhuTE1 <: IndirectEntropy\n",
    "    ZhuTE1(k = 1, w = 0, base = MathConstants.e)\n",
    "\n",
    "The `ZhuTE1` transfer entropy estimator (Zhu et al., 2015)[^Zhu2015].\n",
    "\n",
    "This estimator approximates probabilities within hyperrectangles\n",
    "surrounding each point `xᵢ ∈ x` using using `k` nearest neighbor searches. However,\n",
    "it also considers the number of neighbors falling on the borders of these hyperrectangles.\n",
    "This estimator is an extension to the entropy estimator in Singh et al. (2003).\n",
    "\n",
    "`w` is the Theiler window, which determines if temporal neighbors are excluded\n",
    "during neighbor searches (defaults to `0`, meaning that only the point itself is excluded\n",
    "when searching for neighbours).\n",
    "\n",
    "[^Zhu2015]:\n",
    "    Zhu, J., Bellanger, J. J., Shu, H., & Le Bouquin Jeannès, R. (2015). Contribution to\n",
    "    transfer entropy estimation via the k-nearest-neighbors approach. Entropy, 17(6),\n",
    "    4173-4201.\n",
    "[^Singh2003]:\n",
    "    Singh, H., Misra, N., Hnizdo, V., Fedorowicz, A., & Demchuk, E. (2003). Nearest\n",
    "    neighbor estimates of entropy. American journal of mathematical and management\n",
    "    sciences, 23(3-4), 301-321.\n",
    "\"\"\"\n",
    "Base.@kwdef struct ZhuTE1111{B} <: IndirectEntropy\n",
    "    k::Int = 1\n",
    "    w::Int = 0\n",
    "    base::B = MathConstants.e\n",
    "\n",
    "    function ZhuTE1111(k::Int, w::Int, base::B) where B\n",
    "        k >= 2 || throw(DomainError(\"The number of neighbors k must be >= 2.\"))\n",
    "        new{B}(k, w, base)\n",
    "    end\n",
    "end\n",
    "\n",
    "using Neighborhood: NeighborNumber, Theiler, bulkisearch, bulksearch, WithinRange\n",
    "using Distances\n",
    "using DelayEmbeddings\n",
    "function te(est::ZhuTE1111, \n",
    "    S::AbstractDataset{DS, Q},\n",
    "    T::AbstractDataset{DT, Q}, \n",
    "    T⁺::AbstractDataset{DTT, Q}\n",
    ") where {DS, DT, DTT, Q}\n",
    "    println(\"heyo\")\n",
    "    (; k, w, base) = est\n",
    "    joint = Dataset(S, T, T⁺)\n",
    "    ST = Dataset(S, T)\n",
    "    TT⁺ = Dataset(T, T⁺)\n",
    "    N = length(joint)\n",
    "    tree_joint = KDTree(joint, Euclidean())\n",
    "    tree_ST = KDTree(ST, Euclidean())\n",
    "    tree_TT⁺ = KDTree(TT⁺, Euclidean())\n",
    "    tree_T = KDTree(T, Euclidean())\n",
    "\n",
    "    nns_joint, ds_joint = bulksearch(tree_joint, joint, NeighborNumber(k), Theiler(w))\n",
    "    dk = [ds_joint[i][k] for i = 1:N] # distance to k-th nearest neighbor.\n",
    "    # Distances vary for each pᵢ, so can't use bulk search.\n",
    "    nns_ST    = [isearch(tree_ST, pᵢ, WithinRange(dk[i])) for (i, pᵢ) in enumerate(ST)]\n",
    "    nns_TT⁺   = [isearch(tree_TT⁺, pᵢ, WithinRange(dk[i])) for (i, pᵢ) in enumerate(TT⁺)]\n",
    "    nns_T     = [isearch(tree_T, pᵢ, WithinRange(dk[i])) for (i, pᵢ) in enumerate(T)]\n",
    "\n",
    "    # Find volumes\n",
    "    vJ = volumes(joint, nns_joint, N)\n",
    "    vST = volumes(ST, nns_joint, N)\n",
    "    vTT⁺ = volumes(TT⁺, nns_joint, N)\n",
    "    vT = volumes(T, nns_joint, N)\n",
    "    kST = length.(nns_ST)\n",
    "    kTT⁺ = length.(nns_TT⁺)\n",
    "    kT = length.(nns_T)\n",
    "\n",
    "    return mean_volumes(vJ, vST, vTT⁺, vT, N) + \n",
    "        mean_digamma(kST, kTT⁺, kT, k, N, DS, DT, DTT)\n",
    "end \n",
    "\n",
    "function mean_volumes(vols_joint, vols_ST, vols_TT⁺, vols_T, N::Int)\n",
    "    vol = 0.0\n",
    "    for i = 1:N\n",
    "        vol += (vols_TT⁺[i] * vols_ST[i]) / (vols_joint[i] * vols_T[i])\n",
    "    end\n",
    "    return vol / N\n",
    "end\n",
    "\n",
    "function mean_digamma(ks_ST, ks_TT⁺, ks_T, k::Int, N::Int, \n",
    "        dS::Int, dT::Int, dT⁺::Int)\n",
    "    \n",
    "    Φ = 0.0\n",
    "    for i = 1:N\n",
    "        Φ += digamma(k) + digamma(ks_T[i]) - digamma(ks_TT⁺[i]) - digamma(ks_ST[i]) + \n",
    "            (dT⁺ + dT - 1) / ks_TT⁺[i] + \n",
    "            (dT⁺ + dS - 1) / ks_ST[i] - \n",
    "            (dT⁺ + dT + dS - 1) / k - \n",
    "            (dT - 1) / ks_T[i]\n",
    "    end\n",
    "    return Φ / N\n",
    "end\n",
    "\n",
    "function volumes_and_ks(x::AbstractDataset, nn_idxs, N::Int)\n",
    "    T = eltype(0.0)\n",
    "    volumes = zeros(T, N)\n",
    "    ks = zeros(N)\n",
    "    for (i, (xᵢ, nn_idxsᵢ)) in enumerate(zip(x, nn_idxs))\n",
    "        nnsᵢ = @views x[nn_idxsᵢ] # the actual coordinates of the points\n",
    "        distsᵢ = maxdists(xᵢ, nnsᵢ)\n",
    "        volumes[i] = volume_minimal_rect(distsᵢ)\n",
    "        ks[i] = length(nn_idxsᵢ)\n",
    "    end\n",
    "    return volumes, ks\n",
    "end\n",
    "\n",
    "function volumes(x::AbstractDataset, nn_idxs, N::Int)\n",
    "    T = eltype(0.0)\n",
    "    volumes = zeros(T, N)\n",
    "    for (i, (xᵢ, nn_idxsᵢ)) in enumerate(zip(x, nn_idxs))\n",
    "        nnsᵢ = @views x[nn_idxsᵢ] # the actual coordinates of the points\n",
    "        distsᵢ = maxdists(xᵢ, nnsᵢ)\n",
    "        volumes[i] = volume_minimal_rect(distsᵢ)\n",
    "    end\n",
    "    return volumes\n",
    "end\n"
   ]
  },
  {
   "cell_type": "code",
   "execution_count": 530,
   "metadata": {},
   "outputs": [
    {
     "data": {
      "text/plain": [
       "ARM1 (generic function with 1 method)"
      ]
     },
     "metadata": {},
     "output_type": "display_data"
    }
   ],
   "source": [
    "function ARM1(n)\n",
    "    x = zeros(n)\n",
    "    y = zeros(n)\n",
    "    𝒩x = Normal(0, 0.1)\n",
    "    𝒩y = Normal(0, 0.1)\n",
    "\n",
    "    x[1:2] = rand(2)\n",
    "    y[1:2] = rand(2)\n",
    "    for i = 3:n\n",
    "        x[i] = 0.45 * sqrt(2)*x[i-1] - 0.9*x[i-2]-0.6*y[i-2] + rand(𝒩x)\n",
    "        y[i] = 0.60 * x[i-2] - 0.175*sqrt(2)*y[i-1] + 0.55*sqrt(2) * y[i-2] + rand(𝒩y)\n",
    "    end\n",
    "\n",
    "    return x, y\n",
    "end\n"
   ]
  },
  {
   "cell_type": "code",
   "execution_count": 534,
   "metadata": {},
   "outputs": [
    {
     "data": {
      "text/plain": [
       "13-element Vector{Float64}:\n",
       " 0.3120183784902036\n",
       " 0.3225999093666299\n",
       " 0.3275861294274093\n",
       " 0.31924775981788994\n",
       " 0.3198091324511628\n",
       " 0.32585012656408097\n",
       " 0.3341280427584144\n",
       " 0.3387345875741453\n",
       " 0.3266523093459226\n",
       " 0.3264320742286658\n",
       " 0.31961110005533755\n",
       " 0.34017606758082175\n",
       " 0.3266016951526681"
      ]
     },
     "metadata": {},
     "output_type": "display_data"
    }
   ],
   "source": [
    "Ns = [round(Int, 2^i) for i = 5:0.5:11]\n",
    "nreps = 10\n",
    "tes = [zeros(nreps) for N in Ns]\n",
    "for (k, N) in enumerate(Ns)\n",
    "    for i = 1:nreps\n",
    "        println(\"yo\")\n",
    "        x, y = ARM1(100)\n",
    "        S = Dataset(x)[1:end-1] |> standardize\n",
    "        T = Dataset(y)[1:end-1] |> standardize\n",
    "        T⁺ = Dataset(y)[2:end]  |> standardize\n",
    "\n",
    "        tes[k][i] = te(ZhuTE1111(k = 5), S, T, T⁺) / log(2, MathConstants.e)\n",
    "    end\n",
    "end\n",
    "mean.(tes)\n"
   ]
  },
  {
   "cell_type": "code",
   "execution_count": 491,
   "metadata": {},
   "outputs": [
    {
     "data": {
      "text/plain": [
       "3×3 Matrix{Float64}:\n",
       " 1.0   0.2  0.04\n",
       " 0.2   1.0  0.2\n",
       " 0.04  0.2  1.0"
      ]
     },
     "metadata": {},
     "output_type": "display_data"
    }
   ],
   "source": [
    "# https://discourse.julialang.org/t/toeplitz-matrix/22457/3\n",
    "function toeplitz(x::AbstractVector{T}) where T\n",
    "    n = length(x)\n",
    "    A = zeros(T, n, n)\n",
    "    for i = 1:n\n",
    "        for j = 1:n-i+1\n",
    "            A[i,i+j-1] = x[j]\n",
    "        end\n",
    "        for j = n-i+2:n\n",
    "            A[i, j-(n-i+1)] = x[j]\n",
    "        end\n",
    "    end\n",
    "    return A\n",
    "end\n",
    "\n",
    "using ToeplitzMatrices\n",
    "function cU(α, dU::Int)\n",
    "    αs = [1; [α^k for k in 1:(dU - 1)]]\n",
    "    Toeplitz(αs, αs)\n",
    "end\n",
    "\n",
    "using Distributions\n",
    "\n"
   ]
  },
  {
   "cell_type": "code",
   "execution_count": 496,
   "metadata": {},
   "outputs": [],
   "source": [
    "Σy = cU(0.5, 3) |> Matrix\n",
    "Σz = cU(0.2, 3) |> Matrix\n",
    "μs = zeros(3)\n",
    "Ny = MvNormal(μs, Σy)\n",
    "Nz = MvNormal(μs, Σz)\n",
    "Nw = Normal(0, 0.5)\n",
    "\n",
    "Ns = [2^i for i = 8:0.5:12]\n",
    "\n",
    "for N in Ns\n",
    "    a = 1:3 |> collect\n",
    "\n",
    "    Yₜ = rand(Ny, N)\n",
    "    Zₜ = rand(Nz, N)\n",
    "    Xₜ = 0.3 .* Yₜ .+ 0.1\n",
    "\n",
    "    \n",
    "end\n"
   ]
  },
  {
   "cell_type": "code",
   "execution_count": null,
   "metadata": {},
   "outputs": [],
   "source": []
  }
 ],
 "metadata": {
  "kernelspec": {
   "display_name": "Julia 1.8.0",
   "language": "julia",
   "name": "julia-1.8"
  },
  "language_info": {
   "file_extension": ".jl",
   "mimetype": "application/julia",
   "name": "julia",
   "version": "1.8.0"
  },
  "orig_nbformat": 4,
  "vscode": {
   "interpreter": {
    "hash": "31f2aee4e71d21fbe5cf8b01ff0e069b9275f58929596ceb00d14d90e3e16cd6"
   }
  }
 },
 "nbformat": 4,
 "nbformat_minor": 2
}
